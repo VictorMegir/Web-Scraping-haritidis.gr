{
 "cells": [
  {
   "cell_type": "code",
   "execution_count": 1,
   "id": "engaged-exclusion",
   "metadata": {},
   "outputs": [],
   "source": [
    "import pandas as pd\n",
    "import numpy as np\n",
    "import json\n",
    "import re"
   ]
  },
  {
   "cell_type": "code",
   "execution_count": 2,
   "id": "meaningful-ridge",
   "metadata": {},
   "outputs": [],
   "source": [
    "raw_data = pd.read_json('raw_data.json', orient='index')\n",
    "raw_data.dropna(subset=['name'], inplace=True)\n",
    "raw_data.fillna(value=np.nan, inplace=True)\n",
    "raw_data.drop(columns=['details'], inplace=True)"
   ]
  },
  {
   "cell_type": "code",
   "execution_count": 3,
   "id": "reserved-metabolism",
   "metadata": {},
   "outputs": [
    {
     "data": {
      "text/html": [
       "<div>\n",
       "<style scoped>\n",
       "    .dataframe tbody tr th:only-of-type {\n",
       "        vertical-align: middle;\n",
       "    }\n",
       "\n",
       "    .dataframe tbody tr th {\n",
       "        vertical-align: top;\n",
       "    }\n",
       "\n",
       "    .dataframe thead th {\n",
       "        text-align: right;\n",
       "    }\n",
       "</style>\n",
       "<table border=\"1\" class=\"dataframe\">\n",
       "  <thead>\n",
       "    <tr style=\"text-align: right;\">\n",
       "      <th></th>\n",
       "      <th>name</th>\n",
       "      <th>price</th>\n",
       "      <th>sex</th>\n",
       "      <th>jewel_type</th>\n",
       "      <th>brand</th>\n",
       "      <th>material</th>\n",
       "      <th>color</th>\n",
       "      <th>jewel_weight</th>\n",
       "      <th>rocks</th>\n",
       "      <th>rock_details</th>\n",
       "      <th>dimensions</th>\n",
       "      <th>chain_carat</th>\n",
       "      <th>chain_length</th>\n",
       "      <th>diameter</th>\n",
       "    </tr>\n",
       "  </thead>\n",
       "  <tbody>\n",
       "    <tr>\n",
       "      <th>0</th>\n",
       "      <td>Σετ Κολιέ &amp; Σκουλαρίκια Gloria Hope Silver / P...</td>\n",
       "      <td>75</td>\n",
       "      <td>Women</td>\n",
       "      <td>Necklaces</td>\n",
       "      <td>Gloria Hope</td>\n",
       "      <td>Κράμα Μετάλλων</td>\n",
       "      <td>White</td>\n",
       "      <td>NaN</td>\n",
       "      <td>NaN</td>\n",
       "      <td>NaN</td>\n",
       "      <td>NaN</td>\n",
       "      <td>NaN</td>\n",
       "      <td>NaN</td>\n",
       "      <td>NaN</td>\n",
       "    </tr>\n",
       "    <tr>\n",
       "      <th>1</th>\n",
       "      <td>Σετ Κολιέ &amp; Σκουλαρίκια Gloria Hope Silver / P...</td>\n",
       "      <td>109</td>\n",
       "      <td>Women</td>\n",
       "      <td>Necklaces</td>\n",
       "      <td>Gloria Hope</td>\n",
       "      <td>Κράμα Μετάλλων</td>\n",
       "      <td>White</td>\n",
       "      <td>NaN</td>\n",
       "      <td>NaN</td>\n",
       "      <td>NaN</td>\n",
       "      <td>NaN</td>\n",
       "      <td>NaN</td>\n",
       "      <td>NaN</td>\n",
       "      <td>NaN</td>\n",
       "    </tr>\n",
       "    <tr>\n",
       "      <th>2</th>\n",
       "      <td>Σετ Κολιέ &amp; Σκουλαρίκια Gloria Hope Silver / P...</td>\n",
       "      <td>99</td>\n",
       "      <td>Women</td>\n",
       "      <td>Necklaces</td>\n",
       "      <td>Gloria Hope</td>\n",
       "      <td>Κράμα Μετάλλων</td>\n",
       "      <td>White</td>\n",
       "      <td>NaN</td>\n",
       "      <td>NaN</td>\n",
       "      <td>NaN</td>\n",
       "      <td>NaN</td>\n",
       "      <td>NaN</td>\n",
       "      <td>NaN</td>\n",
       "      <td>NaN</td>\n",
       "    </tr>\n",
       "    <tr>\n",
       "      <th>3</th>\n",
       "      <td>Σετ Κολιέ &amp; Σκουλαρίκια Gloria Hope Silver</td>\n",
       "      <td>69</td>\n",
       "      <td>Women</td>\n",
       "      <td>Necklaces</td>\n",
       "      <td>Gloria Hope</td>\n",
       "      <td>Silver</td>\n",
       "      <td>White</td>\n",
       "      <td>NaN</td>\n",
       "      <td>NaN</td>\n",
       "      <td>NaN</td>\n",
       "      <td>NaN</td>\n",
       "      <td>NaN</td>\n",
       "      <td>NaN</td>\n",
       "      <td>NaN</td>\n",
       "    </tr>\n",
       "    <tr>\n",
       "      <th>4</th>\n",
       "      <td>Κολιέ δάκρυ Gloria Hope Silver</td>\n",
       "      <td>69</td>\n",
       "      <td>Women</td>\n",
       "      <td>Necklaces</td>\n",
       "      <td>Gloria Hope</td>\n",
       "      <td>Κράμα Μετάλλων</td>\n",
       "      <td>White</td>\n",
       "      <td>NaN</td>\n",
       "      <td>NaN</td>\n",
       "      <td>NaN</td>\n",
       "      <td>Μήκος: 6cm</td>\n",
       "      <td>NaN</td>\n",
       "      <td>NaN</td>\n",
       "      <td>NaN</td>\n",
       "    </tr>\n",
       "    <tr>\n",
       "      <th>...</th>\n",
       "      <td>...</td>\n",
       "      <td>...</td>\n",
       "      <td>...</td>\n",
       "      <td>...</td>\n",
       "      <td>...</td>\n",
       "      <td>...</td>\n",
       "      <td>...</td>\n",
       "      <td>...</td>\n",
       "      <td>...</td>\n",
       "      <td>...</td>\n",
       "      <td>...</td>\n",
       "      <td>...</td>\n",
       "      <td>...</td>\n",
       "      <td>...</td>\n",
       "    </tr>\n",
       "    <tr>\n",
       "      <th>8609</th>\n",
       "      <td>Βέρα γάμου</td>\n",
       "      <td>350</td>\n",
       "      <td>Women</td>\n",
       "      <td>Wedding rings</td>\n",
       "      <td>Haritidis</td>\n",
       "      <td>14 carat gold</td>\n",
       "      <td>Gold</td>\n",
       "      <td>5.0</td>\n",
       "      <td>NaN</td>\n",
       "      <td>NaN</td>\n",
       "      <td>Φάρδος 5mm</td>\n",
       "      <td>NaN</td>\n",
       "      <td>NaN</td>\n",
       "      <td>NaN</td>\n",
       "    </tr>\n",
       "    <tr>\n",
       "      <th>8610</th>\n",
       "      <td>βέρα γάμου</td>\n",
       "      <td>396</td>\n",
       "      <td>NaN</td>\n",
       "      <td>Wedding rings</td>\n",
       "      <td>Haritidis</td>\n",
       "      <td>18 carat gold</td>\n",
       "      <td>White &amp; Gold</td>\n",
       "      <td>5.4</td>\n",
       "      <td>Diamond</td>\n",
       "      <td>NaN</td>\n",
       "      <td>NaN</td>\n",
       "      <td>NaN</td>\n",
       "      <td>NaN</td>\n",
       "      <td>NaN</td>\n",
       "    </tr>\n",
       "    <tr>\n",
       "      <th>8611</th>\n",
       "      <td>Βέρα γάμου</td>\n",
       "      <td>235</td>\n",
       "      <td>Unisex</td>\n",
       "      <td>Wedding rings</td>\n",
       "      <td>Haritidis</td>\n",
       "      <td>14 carat gold</td>\n",
       "      <td>White &amp; Rose</td>\n",
       "      <td>2.7</td>\n",
       "      <td>NaN</td>\n",
       "      <td>NaN</td>\n",
       "      <td>Φάρδος 3mm</td>\n",
       "      <td>NaN</td>\n",
       "      <td>NaN</td>\n",
       "      <td>NaN</td>\n",
       "    </tr>\n",
       "    <tr>\n",
       "      <th>8612</th>\n",
       "      <td>Βέρα γάμου</td>\n",
       "      <td>390</td>\n",
       "      <td>Unisex</td>\n",
       "      <td>Wedding rings</td>\n",
       "      <td>Haritidis</td>\n",
       "      <td>14 carat gold</td>\n",
       "      <td>Gold</td>\n",
       "      <td>4.8</td>\n",
       "      <td>NaN</td>\n",
       "      <td>NaN</td>\n",
       "      <td>Φάρδος 4.5mm</td>\n",
       "      <td>NaN</td>\n",
       "      <td>NaN</td>\n",
       "      <td>NaN</td>\n",
       "    </tr>\n",
       "    <tr>\n",
       "      <th>8613</th>\n",
       "      <td>Σταυρός ανδρικός</td>\n",
       "      <td>410</td>\n",
       "      <td>Men</td>\n",
       "      <td>Cross</td>\n",
       "      <td>Haritidis</td>\n",
       "      <td>14 carat gold</td>\n",
       "      <td>White &amp; Gold</td>\n",
       "      <td>4.2</td>\n",
       "      <td>NaN</td>\n",
       "      <td>NaN</td>\n",
       "      <td>25.6 x 18.9 mm</td>\n",
       "      <td>14.0</td>\n",
       "      <td>50.0</td>\n",
       "      <td>NaN</td>\n",
       "    </tr>\n",
       "  </tbody>\n",
       "</table>\n",
       "<p>8613 rows × 14 columns</p>\n",
       "</div>"
      ],
      "text/plain": [
       "                                                   name  price     sex  \\\n",
       "0     Σετ Κολιέ & Σκουλαρίκια Gloria Hope Silver / P...     75   Women   \n",
       "1     Σετ Κολιέ & Σκουλαρίκια Gloria Hope Silver / P...    109   Women   \n",
       "2     Σετ Κολιέ & Σκουλαρίκια Gloria Hope Silver / P...     99   Women   \n",
       "3            Σετ Κολιέ & Σκουλαρίκια Gloria Hope Silver     69   Women   \n",
       "4                        Κολιέ δάκρυ Gloria Hope Silver     69   Women   \n",
       "...                                                 ...    ...     ...   \n",
       "8609                                         Βέρα γάμου    350   Women   \n",
       "8610                                         βέρα γάμου    396     NaN   \n",
       "8611                                         Βέρα γάμου    235  Unisex   \n",
       "8612                                         Βέρα γάμου    390  Unisex   \n",
       "8613                                   Σταυρός ανδρικός    410     Men   \n",
       "\n",
       "         jewel_type        brand        material         color  jewel_weight  \\\n",
       "0         Necklaces  Gloria Hope  Κράμα Μετάλλων         White           NaN   \n",
       "1         Necklaces  Gloria Hope  Κράμα Μετάλλων         White           NaN   \n",
       "2         Necklaces  Gloria Hope  Κράμα Μετάλλων         White           NaN   \n",
       "3         Necklaces  Gloria Hope          Silver         White           NaN   \n",
       "4         Necklaces  Gloria Hope  Κράμα Μετάλλων         White           NaN   \n",
       "...             ...          ...             ...           ...           ...   \n",
       "8609  Wedding rings    Haritidis   14 carat gold          Gold           5.0   \n",
       "8610  Wedding rings    Haritidis   18 carat gold  White & Gold           5.4   \n",
       "8611  Wedding rings    Haritidis   14 carat gold  White & Rose           2.7   \n",
       "8612  Wedding rings    Haritidis   14 carat gold          Gold           4.8   \n",
       "8613          Cross    Haritidis   14 carat gold  White & Gold           4.2   \n",
       "\n",
       "        rocks rock_details      dimensions  chain_carat  chain_length  \\\n",
       "0         NaN          NaN             NaN          NaN           NaN   \n",
       "1         NaN          NaN             NaN          NaN           NaN   \n",
       "2         NaN          NaN             NaN          NaN           NaN   \n",
       "3         NaN          NaN             NaN          NaN           NaN   \n",
       "4         NaN          NaN      Μήκος: 6cm          NaN           NaN   \n",
       "...       ...          ...             ...          ...           ...   \n",
       "8609      NaN          NaN      Φάρδος 5mm          NaN           NaN   \n",
       "8610  Diamond          NaN             NaN          NaN           NaN   \n",
       "8611      NaN          NaN      Φάρδος 3mm          NaN           NaN   \n",
       "8612      NaN          NaN    Φάρδος 4.5mm          NaN           NaN   \n",
       "8613      NaN          NaN  25.6 x 18.9 mm         14.0          50.0   \n",
       "\n",
       "      diameter  \n",
       "0          NaN  \n",
       "1          NaN  \n",
       "2          NaN  \n",
       "3          NaN  \n",
       "4          NaN  \n",
       "...        ...  \n",
       "8609       NaN  \n",
       "8610       NaN  \n",
       "8611       NaN  \n",
       "8612       NaN  \n",
       "8613       NaN  \n",
       "\n",
       "[8613 rows x 14 columns]"
      ]
     },
     "execution_count": 3,
     "metadata": {},
     "output_type": "execute_result"
    }
   ],
   "source": [
    "raw_data"
   ]
  },
  {
   "cell_type": "code",
   "execution_count": 4,
   "id": "meaningful-grounds",
   "metadata": {},
   "outputs": [
    {
     "data": {
      "text/plain": [
       "'rain'"
      ]
     },
     "execution_count": 4,
     "metadata": {},
     "output_type": "execute_result"
    }
   ],
   "source": [
    "from googletrans import Translator\n",
    "trans = Translator()\n",
    "\n",
    "trans.translate('βροχή',src='el').text"
   ]
  },
  {
   "cell_type": "code",
   "execution_count": 5,
   "id": "handmade-notification",
   "metadata": {},
   "outputs": [],
   "source": [
    "def is_ascii(s: str) -> bool: return all(ord(c) < 128 for c in s)"
   ]
  },
  {
   "cell_type": "code",
   "execution_count": 54,
   "id": "essential-squad",
   "metadata": {},
   "outputs": [],
   "source": [
    "all_names = raw_data['name'].unique()\n",
    "\n",
    "all_words = {}\n",
    "for name in all_names:\n",
    "    words = name.split(' ')\n",
    "    for word in words:\n",
    "        if word not in all_words and not is_ascii(word):\n",
    "            all_words[word] = trans.translate(word, src='el').text"
   ]
  },
  {
   "cell_type": "code",
   "execution_count": 7,
   "id": "organized-assessment",
   "metadata": {},
   "outputs": [
    {
     "name": "stdout",
     "output_type": "stream",
     "text": [
      "Σκουλαρίκια με σμαράγδι Earrings with emerald\n"
     ]
    }
   ],
   "source": [
    "test_name = 'Σκουλαρίκια με σμαράγδι'\n",
    "glossary = {\n",
    "    'Σκουλαρίκια': 'Earrings',\n",
    "    'με': 'with',\n",
    "    'σμαράγδι': 'emerald'\n",
    "}\n",
    "\n",
    "new_name = ' '.join([glossary[word] for word in test_name.split(' ')])\n",
    "print(test_name, new_name)"
   ]
  },
  {
   "cell_type": "code",
   "execution_count": 8,
   "id": "economic-combining",
   "metadata": {},
   "outputs": [],
   "source": [
    "def translate_name(greek_name: str) -> str:    \n",
    "    new_name = greek_name\n",
    "    for word in new_name.split(' '):\n",
    "        if word in all_words: \n",
    "            new_name = new_name.replace(word, all_words[word])            \n",
    "    return new_name"
   ]
  },
  {
   "cell_type": "code",
   "execution_count": 32,
   "id": "intermediate-princess",
   "metadata": {},
   "outputs": [],
   "source": [
    "raw_data['name'] = raw_data['name'].apply(lambda row: translate_name(row))"
   ]
  },
  {
   "cell_type": "code",
   "execution_count": 33,
   "id": "governing-library",
   "metadata": {},
   "outputs": [
    {
     "data": {
      "text/plain": [
       "0       Set Necklace & Earrings Gloria Hope Silver / P...\n",
       "1       Set Necklace & Earrings Gloria Hope Silver / P...\n",
       "2       Set Necklace & Earrings Gloria Hope Silver / P...\n",
       "3              Set Necklace & Earrings Gloria Hope Silver\n",
       "4                        Necklace tear Gloria Hope Silver\n",
       "                              ...                        \n",
       "8609                                 Wedding ring wedding\n",
       "8610                                 wedding ring wedding\n",
       "8611                                 Wedding ring wedding\n",
       "8612                                 Wedding ring wedding\n",
       "8613                                         Stavros male\n",
       "Name: name, Length: 8613, dtype: object"
      ]
     },
     "execution_count": 33,
     "metadata": {},
     "output_type": "execute_result"
    }
   ],
   "source": [
    "raw_data['name']"
   ]
  },
  {
   "cell_type": "code",
   "execution_count": 11,
   "id": "mechanical-blank",
   "metadata": {},
   "outputs": [
    {
     "name": "stdout",
     "output_type": "stream",
     "text": [
      "Κράμα Μετάλλων\n",
      "Silver\n",
      "18 carat gold\n",
      "Stainless Steel\n",
      "14 carat gold\n",
      "9 carat gold\n",
      "Brass\n",
      "nan\n",
      "Wood\n"
     ]
    }
   ],
   "source": [
    "for x in raw_data['material'].unique(): print(x)"
   ]
  },
  {
   "cell_type": "code",
   "execution_count": 12,
   "id": "printable-voluntary",
   "metadata": {},
   "outputs": [],
   "source": [
    "raw_data['material'].replace(to_replace='Κράμα Μετάλλων', value='Metal Alloy', inplace=True)\n",
    "raw_data['material'].replace(to_replace='18 carat gold', value='Gold 18ct.', inplace=True)\n",
    "raw_data['material'].replace(to_replace='14 carat gold', value='Gold 14ct.', inplace=True)\n",
    "raw_data['material'].replace(to_replace='9 carat gold', value='Gold 9ct.', inplace=True)"
   ]
  },
  {
   "cell_type": "code",
   "execution_count": 62,
   "id": "constitutional-warrant",
   "metadata": {},
   "outputs": [],
   "source": [
    "def process_dimensions(dim: str) -> str:\n",
    "    if dim is np.nan: return dim\n",
    "    \n",
    "    dim = dim.replace(',', '.')\n",
    "    dim = dim.replace(' x ', 'x')\n",
    "    dim = dim.replace(':', '')\n",
    "    \n",
    "    dim = dim.replace('κρίκων', 'of rings')\n",
    "    dim = dim.replace('καρπό', 'wrist')\n",
    "    dim = dim.replace('παραμάνας', 'of pin')\n",
    "    dim = dim.replace('κύκλων', 'of circles')\n",
    "    dim = dim.replace('Μήκος', 'Length')\n",
    "    \n",
    "    dim = translate_name(dim)\n",
    "    \n",
    "    dim = dim.replace('x', ' x ')\n",
    "    dim = dim.replace(':', ': ')\n",
    "    \n",
    "    return dim"
   ]
  },
  {
   "cell_type": "code",
   "execution_count": 76,
   "id": "chief-abortion",
   "metadata": {},
   "outputs": [],
   "source": [
    "all_dimensions = raw_data['dimensions'].unique()[1:]\n",
    "\n",
    "for dimensions in all_dimensions:\n",
    "    words = dimensions.split(' ')\n",
    "    for word in words:\n",
    "        if word not in all_words and not is_ascii(word):\n",
    "            all_words[word] = trans.translate(word, src='el').text"
   ]
  },
  {
   "cell_type": "code",
   "execution_count": 77,
   "id": "resistant-black",
   "metadata": {},
   "outputs": [],
   "source": [
    "raw_data['dimensions'] = raw_data['dimensions'].apply(lambda row: process_dimensions(row))"
   ]
  },
  {
   "cell_type": "code",
   "execution_count": 78,
   "id": "welcome-museum",
   "metadata": {},
   "outputs": [
    {
     "data": {
      "text/plain": [
       "0                  NaN\n",
       "1                  NaN\n",
       "2                  NaN\n",
       "3                  NaN\n",
       "4           Length 6cm\n",
       "             ...      \n",
       "8609         Width 5mm\n",
       "8610               NaN\n",
       "8611         Width 3mm\n",
       "8612       Width 4.5mm\n",
       "8613    25.6 x 18.9 mm\n",
       "Name: dimensions, Length: 8613, dtype: object"
      ]
     },
     "execution_count": 78,
     "metadata": {},
     "output_type": "execute_result"
    }
   ],
   "source": [
    "raw_data['dimensions']"
   ]
  },
  {
   "cell_type": "code",
   "execution_count": 71,
   "id": "industrial-bundle",
   "metadata": {},
   "outputs": [
    {
     "name": "stdout",
     "output_type": "stream",
     "text": [
      "Ιολίτης\n",
      "Μαργαριταριού\n",
      "λευκά\n"
     ]
    }
   ],
   "source": [
    "all_rock_details = raw_data['rock_details'].unique()[1:]\n",
    "\n",
    "for rock_details in all_rock_details:\n",
    "    words = rock_details.split(' ')\n",
    "    for word in words:\n",
    "        if word not in all_words and not is_ascii(word):\n",
    "            try: all_words[word] = trans.translate(word, src='el').text; print(word)\n",
    "            except IndexError: continue"
   ]
  },
  {
   "cell_type": "code",
   "execution_count": 80,
   "id": "exciting-miracle",
   "metadata": {},
   "outputs": [],
   "source": [
    "all_words['Ιολίτης'] = 'Iolite'\n",
    "all_words['Μαργαριταριού'] = 'Pearl'\n",
    "all_words['λευκά'] = 'white'\n",
    "all_words['διαμάντια'] = 'diamonds'"
   ]
  },
  {
   "cell_type": "code",
   "execution_count": 81,
   "id": "expanded-foster",
   "metadata": {},
   "outputs": [],
   "source": [
    "raw_data['rock_details'] = raw_data['rock_details'].apply(lambda row: process_dimensions(row))"
   ]
  },
  {
   "cell_type": "code",
   "execution_count": 82,
   "id": "accepted-confirmation",
   "metadata": {},
   "outputs": [],
   "source": [
    "with open('all_words.json', 'w') as fp: json.dump(all_words, fp)"
   ]
  },
  {
   "cell_type": "code",
   "execution_count": 83,
   "id": "incoming-favor",
   "metadata": {},
   "outputs": [],
   "source": [
    "raw_data.to_csv('jewelry.csv', index=False)"
   ]
  }
 ],
 "metadata": {
  "kernelspec": {
   "display_name": "Python 3",
   "language": "python",
   "name": "python3"
  },
  "language_info": {
   "codemirror_mode": {
    "name": "ipython",
    "version": 3
   },
   "file_extension": ".py",
   "mimetype": "text/x-python",
   "name": "python",
   "nbconvert_exporter": "python",
   "pygments_lexer": "ipython3",
   "version": "3.9.1"
  }
 },
 "nbformat": 4,
 "nbformat_minor": 5
}
