{
 "cells": [
  {
   "cell_type": "code",
   "execution_count": 1,
   "id": "received-navigation",
   "metadata": {},
   "outputs": [],
   "source": [
    "import requests\n",
    "from bs4 import BeautifulSoup\n",
    "from numpy import nan"
   ]
  },
  {
   "cell_type": "code",
   "execution_count": 2,
   "id": "hired-johnson",
   "metadata": {},
   "outputs": [],
   "source": [
    "def process_price(price: str) -> float:\n",
    "    price = price.strip('\\t\\n €')\n",
    "    price = price.replace(',', '')\n",
    "    return float(price)"
   ]
  },
  {
   "cell_type": "code",
   "execution_count": 26,
   "id": "visible-indiana",
   "metadata": {},
   "outputs": [],
   "source": [
    "def process_float(input_number: str) -> float:\n",
    "    input_number = input_number.strip('\\n\\t grcm')\n",
    "    input_number = input_number.replace(',', '.')\n",
    "    try:\n",
    "        input_number = float(input_number)\n",
    "    except ValueError:\n",
    "        import re\n",
    "        num_list = re.findall(r'\\d+\\.?\\d+', input_number)\n",
    "        \n",
    "        if len(num_list) == 0: input_number = nan\n",
    "        else: input_number = float(max(num_list))\n",
    "    return input_number"
   ]
  },
  {
   "cell_type": "code",
   "execution_count": 11,
   "id": "pacific-season",
   "metadata": {},
   "outputs": [],
   "source": [
    "def scrape_page(url: str) -> dict:\n",
    "    response = requests.get(url)\n",
    "    soup = BeautifulSoup(response.content, 'html.parser')\n",
    "    \n",
    "    try: name = soup.find(class_='product-name-h1').text\n",
    "    except AttributeError: name = nan\n",
    "\n",
    "    try: price = process_price(soup.find(class_='price').text)\n",
    "    except AttributeError: price = nan\n",
    "\n",
    "    try: sex = soup.find(class_='sex').td.text.strip('\\n\\t ')\n",
    "    except AttributeError: sex = nan\n",
    "\n",
    "    try: jewel_type = soup.find(class_='jewel_type').td.text.strip('\\n\\t ')\n",
    "    except AttributeError: jewel_type = nan\n",
    "\n",
    "    try: brand = soup.find(class_='manufacturer_jewel').td.text.strip('\\n\\t ')\n",
    "    except AttributeError: \n",
    "        try: brand = soup.find(class_='tr3').td.text.strip('\\n\\t ')\n",
    "        except AttributeError: brand = nan\n",
    "    \n",
    "    try: material = soup.find(class_='material').td.text.strip('\\n\\t ')\n",
    "    except AttributeError: material = nan\n",
    "    \n",
    "    try: color = soup.find(class_='color').td.text.strip('\\n\\t ')\n",
    "    except AttributeError: color = nan\n",
    "\n",
    "    try: jewel_weight = process_float(soup.find(class_='jewel_weight').td.text)\n",
    "    except AttributeError: jewel_weight = nan\n",
    "\n",
    "    try: rocks = soup.find(class_='jewel_rocks2').td.text.strip('\\n\\t ')\n",
    "    except AttributeError: rocks = nan\n",
    "\n",
    "    try: rock_details = soup.find(class_='stone_details').td.text.strip('\\n\\t ')\n",
    "    except AttributeError: rock_details = nan\n",
    "\n",
    "    try: dimensions = soup.find(class_='dimensions').td.text.strip('\\n\\t ')\n",
    "    except AttributeError: dimensions = nan\n",
    "\n",
    "    try: details = soup.find(class_='details').td.text.strip('\\n\\t ')\n",
    "    except AttributeError: details = nan\n",
    "\n",
    "    try: chain_carat = float(soup.find(class_='chain_carat').td.text.strip('\\n\\t '))\n",
    "    except AttributeError: chain_carat = nan\n",
    "\n",
    "    try: chain_length = process_float(soup.find(class_='cm').td.text)\n",
    "    except AttributeError: chain_length = nan\n",
    "\n",
    "    try: diameter = process_float(soup.find(class_='diameter').td.text)\n",
    "    except AttributeError: diameter = nan\n",
    "        \n",
    "    return {\n",
    "        'name': name,\n",
    "        'price': price,\n",
    "        'sex': sex,\n",
    "        'jewel_type': jewel_type,\n",
    "        'brand': brand,\n",
    "        'material': material,\n",
    "        'color': color,\n",
    "        'jewel_weight': jewel_weight,\n",
    "        'rocks': rocks,\n",
    "        'rock_details': rock_details,\n",
    "        'dimensions': dimensions,\n",
    "        'details': details,\n",
    "        'chain_carat': chain_carat,\n",
    "        'chain_length': chain_length,\n",
    "        'diameter': diameter\n",
    "    }"
   ]
  },
  {
   "cell_type": "code",
   "execution_count": 5,
   "id": "twenty-interaction",
   "metadata": {},
   "outputs": [
    {
     "data": {
      "text/plain": [
       "{'name': 'Δαχτυλίδι μισόβερο',\n",
       " 'price': 2200.0,\n",
       " 'sex': 'Women',\n",
       " 'jewel_type': 'Ring',\n",
       " 'brand': 'Haritidis',\n",
       " 'material': '18 carat gold',\n",
       " 'color': 'White',\n",
       " 'jewel_weight': 3.9,\n",
       " 'rocks': 'Diamond',\n",
       " 'rock_details': 'Διαμάντια 0.80ct',\n",
       " 'dimensions': nan,\n",
       " 'details': nan,\n",
       " 'chain_carat': nan,\n",
       " 'chain_length': nan,\n",
       " 'diameter': nan}"
      ]
     },
     "execution_count": 5,
     "metadata": {},
     "output_type": "execute_result"
    }
   ],
   "source": [
    "test_url = 'https://www.haritidis.gr/en/ring-misovero-diamond-daxtulidi-diamantia-kv40895'\n",
    "scrape_page(test_url)"
   ]
  },
  {
   "cell_type": "code",
   "execution_count": 6,
   "id": "amber-satisfaction",
   "metadata": {},
   "outputs": [],
   "source": [
    "links = open('links.txt', 'r').readlines()"
   ]
  },
  {
   "cell_type": "code",
   "execution_count": 31,
   "id": "identical-ideal",
   "metadata": {},
   "outputs": [],
   "source": [
    "all_entries = {}\n",
    "\n",
    "for i in range(3375):\n",
    "    link = links[i].strip('\\n')\n",
    "    all_entries[i] = scrape_page(link)"
   ]
  },
  {
   "cell_type": "code",
   "execution_count": 32,
   "id": "printable-winning",
   "metadata": {},
   "outputs": [],
   "source": [
    "import json\n",
    "with open('raw_data.json', 'w') as fp:\n",
    "    json.dump(all_entries, fp)"
   ]
  }
 ],
 "metadata": {
  "kernelspec": {
   "display_name": "Python 3",
   "language": "python",
   "name": "python3"
  },
  "language_info": {
   "codemirror_mode": {
    "name": "ipython",
    "version": 3
   },
   "file_extension": ".py",
   "mimetype": "text/x-python",
   "name": "python",
   "nbconvert_exporter": "python",
   "pygments_lexer": "ipython3",
   "version": "3.9.1"
  }
 },
 "nbformat": 4,
 "nbformat_minor": 5
}
